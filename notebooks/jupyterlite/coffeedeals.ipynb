{
 "cells": [
  {
   "cell_type": "code",
   "execution_count": null,
   "id": "5c5d2938-523d-4b94-9c7d-3179950939cb",
   "metadata": {},
   "outputs": [],
   "source": [
    "import pandas as pd\n",
    "from js import fetch\n",
    "from io import StringIO"
   ]
  },
  {
   "cell_type": "code",
   "execution_count": null,
   "id": "78a7bd15-e77a-4da1-89e4-0c418a392e29",
   "metadata": {},
   "outputs": [],
   "source": [
    "resp = await fetch('https://cmcconomy.github.io/coffeedeals/coffeedeals.csv')\n",
    "csv = await resp.text()\n",
    "df = pd.read_csv(StringIO(csv))\n",
    "df"
   ]
  },
  {
   "cell_type": "code",
   "execution_count": null,
   "id": "82a351ff-bc30-4523-b283-0a896062c6a6",
   "metadata": {},
   "outputs": [],
   "source": []
  }
 ],
 "metadata": {
  "kernelspec": {
   "display_name": "Python 3 (ipykernel)",
   "language": "python",
   "name": "python3"
  },
  "language_info": {
   "codemirror_mode": {
    "name": "ipython",
    "version": 3
   },
   "file_extension": ".py",
   "mimetype": "text/x-python",
   "name": "python",
   "nbconvert_exporter": "python",
   "pygments_lexer": "ipython3",
   "version": "3.11.6"
  }
 },
 "nbformat": 4,
 "nbformat_minor": 5
}
